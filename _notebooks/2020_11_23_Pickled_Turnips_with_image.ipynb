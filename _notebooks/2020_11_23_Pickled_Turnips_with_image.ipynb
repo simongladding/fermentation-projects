{
 "cells": [
  {
   "cell_type": "markdown",
   "metadata": {},
   "source": [
    "# Pickled Turnips\n",
    "> \"Lacto-fermented turnips with beetroot & garlic.\"\n",
    "\n",
    "\n",
    "- toc: false\n",
    "- branch: master\n",
    "- badges: false\n",
    "- comments: true\n",
    "- categories: [turnip, lacto-fermentation]\n",
    "- image: images/turnips.png\n",
    "- hide: false\n",
    "- search_exclude: false\n",
    "- metadata_key1: metadata_value1\n",
    "- metadata_key2: metadata_value2\n",
    "\n"
   ]
  },
  {
   "cell_type": "markdown",
   "metadata": {},
   "source": [
    "![](images/turnips.jpg)"
   ]
  },
  {
   "attachments": {},
   "cell_type": "markdown",
   "metadata": {},
   "source": [
    "**Pickled Turnips**\n",
    "\n",
    "These are so easy to make and are great in a pitta with hummus. Turnips fermented this way provide a crunchy texture variation and a deep fermenty-brassica savoury hit.\n",
    "\n",
    "\n"
   ]
  },
  {
   "cell_type": "markdown",
   "metadata": {},
   "source": [
    "To make you will need:\n",
    "\n",
    "- \t4 peeled turnips\n",
    "- \t1 small peeled beetroot\n",
    "- \t1 garlic clove\n",
    "- \t4 heaped tbsp sea salt\n"
   ]
  },
  {
   "cell_type": "markdown",
   "metadata": {},
   "source": [
    "Chop the turnips and beetroot in half and then into 5mm thick slices. Chop the garlic up finely. Mix the vegetables thoroughly with the salt in a bowl.\n",
    "\n",
    "Put the salty vegetable mix into a jar - I use Kilner jars which will allow air to escape as fermentation starts to happen.\n",
    "Add water to cover the vegtables and move the jar around to make sure there are no pockets of air. Make sure the vegetables are submerged or they won’t keep their pink colour.\n",
    "\n",
    "You can do this by using a weight to submerge the vegetables under the water surface if you have one or alternatively put some water in a clean small plastic sandwich bag, tie it shut and then put that in the top of the jar to weigh the vegetables down.\n",
    "The turnips will be ready after 4 or 5 days - taste them each day to see how far they are down the crunchiness / fermented flavour line. Then store them in the fridge so that they retain their crunch for a little bit longer.\n"
   ]
  },
  {
   "cell_type": "code",
   "execution_count": null,
   "metadata": {},
   "outputs": [],
   "source": []
  }
 ],
 "metadata": {
  "kernelspec": {
   "display_name": "Python 3",
   "language": "python",
   "name": "python3"
  },
  "language_info": {
   "codemirror_mode": {
    "name": "ipython",
    "version": 3
   },
   "file_extension": ".py",
   "mimetype": "text/x-python",
   "name": "python",
   "nbconvert_exporter": "python",
   "pygments_lexer": "ipython3",
   "version": "3.6.9"
  }
 },
 "nbformat": 4,
 "nbformat_minor": 2
}
